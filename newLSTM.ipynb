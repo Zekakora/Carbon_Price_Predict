{
 "cells": [
  {
   "cell_type": "code",
   "execution_count": 3,
   "id": "initial_id",
   "metadata": {
    "collapsed": true,
    "ExecuteTime": {
     "end_time": "2024-03-29T13:57:35.800521Z",
     "start_time": "2024-03-29T13:57:35.784096Z"
    }
   },
   "outputs": [],
   "source": [
    "import numpy as np\n",
    "import tensorflow as tf\n",
    "import pandas as pd\n",
    "import matplotlib.pyplot as plt\n",
    "from datetime import datetime"
   ]
  },
  {
   "cell_type": "markdown",
   "source": [
    "# 数据预处理"
   ],
   "metadata": {
    "collapsed": false
   },
   "id": "64f1abb037bca2ac"
  },
  {
   "cell_type": "code",
   "outputs": [
    {
     "name": "stdout",
     "output_type": "stream",
     "text": [
      "   pm2.5  DEWP  TEMP    PRES cbwd   Iws  Is  Ir            datetime\n",
      "1    NaN   -21 -12.0  1020.0   NW  4.92   0   0 2010-01-01 01:00:00\n",
      "2    NaN   -21 -11.0  1019.0   NW  6.71   0   0 2010-01-01 02:00:00\n",
      "3    NaN   -21 -14.0  1019.0   NW  9.84   0   0 2010-01-01 03:00:00\n"
     ]
    }
   ],
   "source": [
    "df = pd.read_csv(\"learndata/pollution.csv\")\n",
    "df.drop(columns=['No'], inplace=True)\n",
    "\n",
    "pd.to_datetime(df[['year', 'month','day', 'hour']])\n",
    "\n",
    "df['datetime'] = df.apply(lambda x: pd.to_datetime(f\"{x['year']}-{x['month']}-{x['day']} {x['hour']}:00:00\"), axis=1)\n",
    "\n",
    "df.drop(columns=['year', 'month','day', 'hour'], axis=1, inplace=True)\n",
    "\n",
    "# df.insert(0, 'datetime', df.pop('datetime'))\n",
    "# df.set_index('datetime', inplace=True)\n",
    "df.columns = ['pollution', 'dew', 'temp', 'press', 'wnd_dir', 'wnd_spd', 'snow', 'rain']\n",
    "df.dropna(inplace=True)\n",
    "\n",
    "df.to_csv(\"learndata/pollution_improve.csv\", index=False)"
   ],
   "metadata": {
    "collapsed": false,
    "ExecuteTime": {
     "end_time": "2024-03-29T14:23:58.605179Z",
     "start_time": "2024-03-29T14:23:44.574421Z"
    }
   },
   "id": "e3ecbbe6ad32f2fd",
   "execution_count": 42
  },
  {
   "cell_type": "markdown",
   "source": [
    "# 模型搭建"
   ],
   "metadata": {
    "collapsed": false
   },
   "id": "e2a16c1c0ea5d794"
  },
  {
   "cell_type": "code",
   "outputs": [
    {
     "name": "stdout",
     "output_type": "stream",
     "text": [
      "           dew  temp   press wnd_dir  wnd_spd  snow  rain\n",
      "pollution                                                \n",
      "129.0      -16  -4.0  1020.0      SE     1.79     0     0\n",
      "148.0      -15  -4.0  1020.0      SE     2.68     0     0\n",
      "159.0      -11  -5.0  1021.0      SE     3.57     0     0\n",
      "[ -15.     -4.   1020.      2.      2.68    0.      0.  ]\n",
      "   var1(t-1)  var2(t-1)  var3(t-1)  var4(t-1)  var5(t-1)  var6(t-1)  \\\n",
      "1   0.352941   0.245902   0.527273   0.666667   0.002372   0.000000   \n",
      "2   0.367647   0.245902   0.527273   0.666667   0.003947   0.000000   \n",
      "3   0.426471   0.229508   0.545454   0.666667   0.005522   0.000000   \n",
      "4   0.485294   0.229508   0.563637   0.666667   0.008690   0.037037   \n",
      "5   0.485294   0.229508   0.563637   0.666667   0.010265   0.074074   \n",
      "\n",
      "   var7(t-1)   var1(t)  \n",
      "1        0.0  0.367647  \n",
      "2        0.0  0.426471  \n",
      "3        0.0  0.485294  \n",
      "4        0.0  0.485294  \n",
      "5        0.0  0.485294  \n"
     ]
    }
   ],
   "source": [
    "from sklearn.preprocessing import LabelEncoder\n",
    "from sklearn.preprocessing import MinMaxScaler\n",
    "from pandas import DataFrame\n",
    "from pandas import concat\n",
    "\n",
    "def series_to_supervised(data, n_in=1, n_out=1, dropnan=True):\n",
    "\tn_vars = 1 if type(data) is list else data.shape[1]\n",
    "\tdf = DataFrame(data)\n",
    "\tcols, names = list(), list()\n",
    "\t# 输入序列(t-n, ... t-1)\n",
    "\tfor i in range(n_in, 0, -1):\n",
    "\t\tcols.append(df.shift(i))\n",
    "\t\tnames += [('var%d(t-%d)' % (j+1, i)) for j in range(n_vars)]\n",
    "\t# 预测序列(t, t+1, ... t+n)\n",
    "\tfor i in range(0, n_out):\n",
    "\t\tcols.append(df.shift(-i))\n",
    "\t\tif i == 0:\n",
    "\t\t\tnames += [('var%d(t)' % (j+1)) for j in range(n_vars)]\n",
    "\t\telse:\n",
    "\t\t\tnames += [('var%d(t+%d)' % (j+1, i)) for j in range(n_vars)]\n",
    "\t# 把所有放在一起\n",
    "\tagg = concat(cols, axis=1)\n",
    "\tagg.columns = names\n",
    "\t# 删除空值行\n",
    "\tif dropnan:\n",
    "\t\tagg.dropna(inplace=True)\n",
    "\treturn agg\n",
    "\n",
    "dataset = pd.read_csv('learndata/pollution_improve.csv', header=0, index_col=0)\n",
    "print(dataset.head(3))\n",
    "values = dataset.values\n",
    "encoder = LabelEncoder()\n",
    "values[:,3] = encoder.fit_transform(values[:,3])\n",
    "values = values.astype('float32')\n",
    "print(values[1])\n",
    "sclaer = MinMaxScaler(feature_range=(0,1))\n",
    "scaled = sclaer.fit_transform(values)\n",
    "reframed = series_to_supervised(scaled,1,1)\n",
    "# 删除我们不想预测的天气数据列，只留下pollution列\n",
    "reframed.drop(reframed.columns[[8, 9,10,11,12,13]], axis=1, inplace=True)\n",
    "print(reframed.head())"
   ],
   "metadata": {
    "collapsed": false,
    "ExecuteTime": {
     "end_time": "2024-03-29T14:57:37.390999Z",
     "start_time": "2024-03-29T14:57:37.307315Z"
    }
   },
   "id": "67df426c06802b5c",
   "execution_count": 81
  },
  {
   "cell_type": "code",
   "outputs": [
    {
     "name": "stdout",
     "output_type": "stream",
     "text": [
      "(8760, 1, 7) (8760,) (32996, 1, 7) (32996,)\n"
     ]
    }
   ],
   "source": [
    "values = reframed.values\n",
    "n_train_hours = 365*24\n",
    "train = values[:n_train_hours, :]\n",
    "test = values[n_train_hours:, :]\n",
    "\n",
    "train_x, train_y = train[:, :-1], train[:, -1]\n",
    "test_x, test_y = test[:, :-1], test[:, -1]\n",
    "\n",
    "train_x = train_x.reshape(train_x.shape[0], 1 , train_x.shape[1])\n",
    "test_x = test_x.reshape(test_x.shape[0], 1, test_x.shape[1])\n",
    "\n",
    "print(train_x.shape, train_y.shape, test_x.shape, test_y.shape)"
   ],
   "metadata": {
    "collapsed": false,
    "ExecuteTime": {
     "end_time": "2024-03-29T15:01:55.445873Z",
     "start_time": "2024-03-29T15:01:55.437739Z"
    }
   },
   "id": "f55c516c1aff73fc",
   "execution_count": 86
  },
  {
   "cell_type": "code",
   "outputs": [
    {
     "name": "stdout",
     "output_type": "stream",
     "text": [
      "Epoch 1/100\n",
      "122/122 [==============================] - 2s 3ms/step - loss: 0.1806\n",
      "Epoch 2/100\n",
      "122/122 [==============================] - 0s 3ms/step - loss: 0.0383\n",
      "Epoch 3/100\n",
      "122/122 [==============================] - 0s 3ms/step - loss: 0.0215\n",
      "Epoch 4/100\n",
      "122/122 [==============================] - 0s 3ms/step - loss: 0.0136\n",
      "Epoch 5/100\n",
      "122/122 [==============================] - 0s 3ms/step - loss: 0.0127\n",
      "Epoch 6/100\n",
      "122/122 [==============================] - 0s 3ms/step - loss: 0.0125\n",
      "Epoch 7/100\n",
      "122/122 [==============================] - 0s 3ms/step - loss: 0.0125\n",
      "Epoch 8/100\n",
      "122/122 [==============================] - 0s 3ms/step - loss: 0.0127\n",
      "Epoch 9/100\n",
      "122/122 [==============================] - 0s 3ms/step - loss: 0.0124\n",
      "Epoch 10/100\n",
      "122/122 [==============================] - 0s 3ms/step - loss: 0.0122\n",
      "Epoch 11/100\n",
      "122/122 [==============================] - 0s 3ms/step - loss: 0.0121\n",
      "Epoch 12/100\n",
      "122/122 [==============================] - 0s 3ms/step - loss: 0.0122\n",
      "Epoch 13/100\n",
      "122/122 [==============================] - 0s 3ms/step - loss: 0.0124\n",
      "Epoch 14/100\n",
      "122/122 [==============================] - 0s 3ms/step - loss: 0.0124\n",
      "Epoch 15/100\n",
      "122/122 [==============================] - 0s 3ms/step - loss: 0.0120\n",
      "Epoch 16/100\n",
      "122/122 [==============================] - 0s 3ms/step - loss: 0.0121\n",
      "Epoch 17/100\n",
      "122/122 [==============================] - 0s 3ms/step - loss: 0.0120\n",
      "Epoch 18/100\n",
      "122/122 [==============================] - 0s 3ms/step - loss: 0.0129\n",
      "Epoch 19/100\n",
      "122/122 [==============================] - 0s 3ms/step - loss: 0.0119\n",
      "Epoch 20/100\n",
      "122/122 [==============================] - 0s 3ms/step - loss: 0.0117\n",
      "Epoch 21/100\n",
      "122/122 [==============================] - 0s 3ms/step - loss: 0.0120\n",
      "Epoch 22/100\n",
      "122/122 [==============================] - 0s 3ms/step - loss: 0.0117\n",
      "Epoch 23/100\n",
      "122/122 [==============================] - 0s 3ms/step - loss: 0.0118\n",
      "Epoch 24/100\n",
      "122/122 [==============================] - 0s 3ms/step - loss: 0.0119\n",
      "Epoch 25/100\n",
      "122/122 [==============================] - 0s 3ms/step - loss: 0.0118\n",
      "Epoch 26/100\n",
      "122/122 [==============================] - 0s 3ms/step - loss: 0.0120\n",
      "Epoch 27/100\n",
      "122/122 [==============================] - 0s 3ms/step - loss: 0.0118\n",
      "Epoch 28/100\n",
      "122/122 [==============================] - 0s 3ms/step - loss: 0.0119\n",
      "Epoch 29/100\n",
      "122/122 [==============================] - 0s 3ms/step - loss: 0.0121\n",
      "Epoch 30/100\n",
      "122/122 [==============================] - 0s 3ms/step - loss: 0.0116\n",
      "Epoch 31/100\n",
      "122/122 [==============================] - 0s 3ms/step - loss: 0.0121\n",
      "Epoch 32/100\n",
      "122/122 [==============================] - 0s 3ms/step - loss: 0.0121\n",
      "Epoch 33/100\n",
      "122/122 [==============================] - 0s 3ms/step - loss: 0.0119\n",
      "Epoch 34/100\n",
      "122/122 [==============================] - 0s 3ms/step - loss: 0.0117\n",
      "Epoch 35/100\n",
      "122/122 [==============================] - 0s 3ms/step - loss: 0.0116\n",
      "Epoch 36/100\n",
      "122/122 [==============================] - 0s 3ms/step - loss: 0.0119\n",
      "Epoch 37/100\n",
      "122/122 [==============================] - 0s 3ms/step - loss: 0.0119\n",
      "Epoch 38/100\n",
      "122/122 [==============================] - 0s 3ms/step - loss: 0.0118\n",
      "Epoch 39/100\n",
      "122/122 [==============================] - 0s 3ms/step - loss: 0.0118\n",
      "Epoch 40/100\n",
      "122/122 [==============================] - 0s 3ms/step - loss: 0.0118\n",
      "Epoch 41/100\n",
      "122/122 [==============================] - 0s 3ms/step - loss: 0.0119\n",
      "Epoch 42/100\n",
      "122/122 [==============================] - 0s 3ms/step - loss: 0.0118\n",
      "Epoch 43/100\n",
      "122/122 [==============================] - 0s 3ms/step - loss: 0.0116\n",
      "Epoch 44/100\n",
      "122/122 [==============================] - 0s 3ms/step - loss: 0.0115\n",
      "Epoch 45/100\n",
      "122/122 [==============================] - 0s 3ms/step - loss: 0.0120\n",
      "Epoch 46/100\n",
      "122/122 [==============================] - 0s 3ms/step - loss: 0.0115\n",
      "Epoch 47/100\n",
      "122/122 [==============================] - 0s 3ms/step - loss: 0.0118\n",
      "Epoch 48/100\n",
      "122/122 [==============================] - 0s 3ms/step - loss: 0.0116\n",
      "Epoch 49/100\n",
      "122/122 [==============================] - 0s 3ms/step - loss: 0.0118\n",
      "Epoch 50/100\n",
      "122/122 [==============================] - 0s 3ms/step - loss: 0.0116\n",
      "Epoch 51/100\n",
      "122/122 [==============================] - 0s 3ms/step - loss: 0.0117\n",
      "Epoch 52/100\n",
      "122/122 [==============================] - 0s 3ms/step - loss: 0.0119\n",
      "Epoch 53/100\n",
      "122/122 [==============================] - 0s 3ms/step - loss: 0.0123\n",
      "Epoch 54/100\n",
      "122/122 [==============================] - 0s 3ms/step - loss: 0.0117\n",
      "Epoch 55/100\n",
      "122/122 [==============================] - 0s 3ms/step - loss: 0.0116\n",
      "Epoch 56/100\n",
      "122/122 [==============================] - 0s 3ms/step - loss: 0.0118\n",
      "Epoch 57/100\n",
      "122/122 [==============================] - 0s 3ms/step - loss: 0.0115\n",
      "Epoch 58/100\n",
      "122/122 [==============================] - 0s 3ms/step - loss: 0.0115\n",
      "Epoch 59/100\n",
      "122/122 [==============================] - 0s 3ms/step - loss: 0.0115\n",
      "Epoch 60/100\n",
      "122/122 [==============================] - 0s 3ms/step - loss: 0.0121\n",
      "Epoch 61/100\n",
      "122/122 [==============================] - 1s 8ms/step - loss: 0.0117\n",
      "Epoch 62/100\n",
      "122/122 [==============================] - 0s 3ms/step - loss: 0.0116\n",
      "Epoch 63/100\n",
      "122/122 [==============================] - 0s 3ms/step - loss: 0.0115\n",
      "Epoch 64/100\n",
      "122/122 [==============================] - 0s 3ms/step - loss: 0.0117\n",
      "Epoch 65/100\n",
      "122/122 [==============================] - 0s 3ms/step - loss: 0.0116\n",
      "Epoch 66/100\n",
      "122/122 [==============================] - 0s 3ms/step - loss: 0.0115\n",
      "Epoch 67/100\n",
      "122/122 [==============================] - 0s 3ms/step - loss: 0.0119\n",
      "Epoch 68/100\n",
      "122/122 [==============================] - 0s 3ms/step - loss: 0.0120\n",
      "Epoch 69/100\n",
      "122/122 [==============================] - 0s 3ms/step - loss: 0.0116\n",
      "Epoch 70/100\n",
      "122/122 [==============================] - 0s 3ms/step - loss: 0.0120\n",
      "Epoch 71/100\n",
      "122/122 [==============================] - 0s 4ms/step - loss: 0.0115\n",
      "Epoch 72/100\n",
      "122/122 [==============================] - 1s 5ms/step - loss: 0.0115\n",
      "Epoch 73/100\n",
      "122/122 [==============================] - 0s 3ms/step - loss: 0.0116\n",
      "Epoch 74/100\n",
      "122/122 [==============================] - 0s 3ms/step - loss: 0.0116\n",
      "Epoch 75/100\n",
      "122/122 [==============================] - 0s 3ms/step - loss: 0.0116\n",
      "Epoch 76/100\n",
      "122/122 [==============================] - 0s 3ms/step - loss: 0.0117\n",
      "Epoch 77/100\n",
      "122/122 [==============================] - 0s 3ms/step - loss: 0.0117\n",
      "Epoch 78/100\n",
      "122/122 [==============================] - 0s 3ms/step - loss: 0.0115\n",
      "Epoch 79/100\n",
      "122/122 [==============================] - 0s 4ms/step - loss: 0.0118\n",
      "Epoch 80/100\n",
      "122/122 [==============================] - 0s 3ms/step - loss: 0.0117\n",
      "Epoch 81/100\n",
      "122/122 [==============================] - 0s 3ms/step - loss: 0.0118\n",
      "Epoch 82/100\n",
      "122/122 [==============================] - 0s 3ms/step - loss: 0.0120\n",
      "Epoch 83/100\n",
      "122/122 [==============================] - 0s 3ms/step - loss: 0.0118\n",
      "Epoch 84/100\n",
      "122/122 [==============================] - 0s 3ms/step - loss: 0.0118\n",
      "Epoch 85/100\n",
      "122/122 [==============================] - 0s 3ms/step - loss: 0.0116\n",
      "Epoch 86/100\n",
      "122/122 [==============================] - 0s 3ms/step - loss: 0.0115\n",
      "Epoch 87/100\n",
      "122/122 [==============================] - 0s 3ms/step - loss: 0.0119\n",
      "Epoch 88/100\n",
      "122/122 [==============================] - 0s 3ms/step - loss: 0.0115\n",
      "Epoch 89/100\n",
      "122/122 [==============================] - 0s 3ms/step - loss: 0.0118\n",
      "Epoch 90/100\n",
      "122/122 [==============================] - 0s 3ms/step - loss: 0.0121\n",
      "Epoch 91/100\n",
      "122/122 [==============================] - 0s 3ms/step - loss: 0.0116\n",
      "Epoch 92/100\n",
      "122/122 [==============================] - 0s 3ms/step - loss: 0.0116\n",
      "Epoch 93/100\n",
      "122/122 [==============================] - 0s 3ms/step - loss: 0.0115\n",
      "Epoch 94/100\n",
      "122/122 [==============================] - 0s 3ms/step - loss: 0.0118\n",
      "Epoch 95/100\n",
      "122/122 [==============================] - 0s 3ms/step - loss: 0.0117\n",
      "Epoch 96/100\n",
      "122/122 [==============================] - 0s 3ms/step - loss: 0.0116\n",
      "Epoch 97/100\n",
      "122/122 [==============================] - 0s 4ms/step - loss: 0.0116\n",
      "Epoch 98/100\n",
      "122/122 [==============================] - 0s 3ms/step - loss: 0.0116\n",
      "Epoch 99/100\n",
      "122/122 [==============================] - 0s 3ms/step - loss: 0.0114\n",
      "Epoch 100/100\n",
      "122/122 [==============================] - 0s 3ms/step - loss: 0.0115\n"
     ]
    }
   ],
   "source": [
    "from sklearn.metrics import mean_squared_error\n",
    "from keras.models import Sequential\n",
    "from keras.layers import Dense\n",
    "from keras.layers import LSTM\n",
    "from matplotlib import pyplot\n",
    "class LSTMmodel:\n",
    "    def __init__(self, input_shape, units=100):\n",
    "        self.input_shape = input_shape\n",
    "        self.units = units\n",
    "        self.model = self.build_model(input_shape)\n",
    "    \n",
    "    def build_model(self, input_shape):\n",
    "        model = Sequential()\n",
    "        model.add(LSTM(self.units, input_shape=input_shape))\n",
    "        model.add(Dense(1))\n",
    "        model.compile(loss='mae', optimizer='adam')\n",
    "        return model\n",
    "        \n",
    "    def train(self, train_x, train_y, epochs=50, batch_size=32):\n",
    "        self.model.fit(train_x, train_y, epochs=epochs, batch_size=batch_size)\n",
    "        \n",
    "    def predict(self, X):\n",
    "        return self.model.predict(X)\n",
    "\t\n",
    "\n",
    "\n",
    "LSTM_model = LSTMmodel(input_shape=train_x.shape[1:], units=100) \n",
    "LSTM_model.train(train_x, train_y, epochs=100, batch_size=72)\n"
   ],
   "metadata": {
    "collapsed": false,
    "ExecuteTime": {
     "end_time": "2024-03-29T15:29:18.055985Z",
     "start_time": "2024-03-29T15:28:40.467376Z"
    }
   },
   "id": "17599240effe7d48",
   "execution_count": 102
  },
  {
   "cell_type": "code",
   "outputs": [
    {
     "name": "stdout",
     "output_type": "stream",
     "text": [
      "1032/1032 [==============================] - 1s 1ms/step\n",
      "[[0.2906839 ]\n",
      " [0.3051163 ]\n",
      " [0.31942117]\n",
      " ...\n",
      " [0.2616417 ]\n",
      " [0.26169014]\n",
      " [0.2616932 ]]\n"
     ]
    },
    {
     "data": {
      "text/plain": "<Figure size 1000x600 with 1 Axes>",
      "image/png": "[encoded data removed]"
     },
     "metadata": {},
     "output_type": "display_data"
    }
   ],
   "source": [
    "pred_x = LSTM_model.predict(test_x)\n",
    "print(pred_x)\n",
    "\n",
    "plt.figure(figsize=(10, 6))\n",
    "\n",
    "# 绘制真实值的折线图\n",
    "plt.plot(pred_x, label='pred', color='blue')\n",
    "\n",
    "# 绘制预测值的折线图\n",
    "plt.plot(test_y, label='Truth', color='red')\n",
    "\n",
    "# 添加图例\n",
    "plt.legend()\n",
    "\n",
    "# 添加标题和轴标签\n",
    "plt.title('Vaild')\n",
    "plt.xlabel('Index')\n",
    "plt.ylabel('Price')\n",
    "plt.xlim(0, 100)\n",
    "# 显示图形\n",
    "plt.show()"
   ],
   "metadata": {
    "collapsed": false,
    "ExecuteTime": {
     "end_time": "2024-03-29T15:31:10.180790Z",
     "start_time": "2024-03-29T15:31:08.295517Z"
    }
   },
   "id": "a73fa2725a76a67a",
   "execution_count": 105
  }
 ],
 "metadata": {
  "kernelspec": {
   "display_name": "Python 3",
   "language": "python",
   "name": "python3"
  },
  "language_info": {
   "codemirror_mode": {
    "name": "ipython",
    "version": 2
   },
   "file_extension": ".py",
   "mimetype": "text/x-python",
   "name": "python",
   "nbconvert_exporter": "python",
   "pygments_lexer": "ipython2",
   "version": "2.7.6"
  }
 },
 "nbformat": 4,
 "nbformat_minor": 5
}
